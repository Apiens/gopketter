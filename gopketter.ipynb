{
 "cells": [
  {
   "cell_type": "markdown",
   "metadata": {},
   "source": [
    "곱창이 먹고싶어서 만들었습니다.\n",
    "\n",
    "반드시 로그인 부분에서 로그인을 해 주고 넘어가셔야 합니다.\n",
    "\n",
    "인풋값을 조절 하신 후 사용해 주세요.\n",
    "\n",
    "pay_with_point() 를 사용하기 위해선 학습된 tensorflow 모델이 필요합니다.\n",
    "\n",
    "gopket_Keypad_Analyzer를 통해 모델을 생성하고 학습시켜 주세요."
   ]
  },
  {
   "cell_type": "code",
   "execution_count": 1,
   "metadata": {
    "ExecuteTime": {
     "end_time": "2020-10-24T10:27:37.249869Z",
     "start_time": "2020-10-24T10:27:35.385147Z"
    }
   },
   "outputs": [],
   "source": [
    "from selenium import webdriver\n",
    "from selenium.webdriver.chrome.options import Options\n",
    "from bs4 import BeautifulSoup\n",
    "import os\n",
    "import openpyxl\n",
    "import time\n",
    "from datetime import date, datetime\n",
    "import tensorflow as tf\n",
    "import numpy as np\n",
    "import cv2\n",
    "\n",
    "def set_driver(headless = True, driver_path=\"C:/tutorial/chromedriver_86.exe\"):\n",
    "    options = Options()\n",
    "    options.headless = headless # 별도 창 띄우지 않고 driver 실행 (PhantomJS 쓰지 않아도 됨)\n",
    "    driver = webdriver.Chrome(executable_path=driver_path, options=options)\n",
    "    return driver"
   ]
  },
  {
   "cell_type": "code",
   "execution_count": 2,
   "metadata": {
    "ExecuteTime": {
     "end_time": "2020-10-24T10:27:37.265195Z",
     "start_time": "2020-10-24T10:27:37.250871Z"
    }
   },
   "outputs": [],
   "source": [
    "### headless 사용시 봇 탐지 우회 ###\n",
    "\n",
    "# options = webdriver.ChromeOptions()\n",
    "# options.add_argument('headless')\n",
    "# options.add_argument('window-size=1920x1080')\n",
    "# options.add_argument(\"disable-gpu\")\n",
    "\n",
    "# # user agent\n",
    "# options.add_argument(\"user-agent=Mozilla/5.0 (Macintosh; Intel Mac OS X 10_12_6) AppleWebKit/537.36 (KHTML, like Gecko) Chrome/61.0.3163.100 Safari/537.36\")\n",
    "# user_agent = driver.find_element_by_css_selector('#user-agent').text\n",
    "# print('User-Agent: ', user_agent)\n",
    "\n",
    "# # language\n",
    "# options.add_argument(\"lang=ko_KR\")"
   ]
  },
  {
   "cell_type": "code",
   "execution_count": 3,
   "metadata": {
    "ExecuteTime": {
     "end_time": "2020-10-24T10:27:37.280576Z",
     "start_time": "2020-10-24T10:27:37.266197Z"
    }
   },
   "outputs": [],
   "source": [
    "### input 읽어오기 ###\n",
    "\n",
    "# input_path = r\"C:\\Users\\lunat\\Desktop\\gopketter_input.xlsx\" #\"../input/gopketter_input.xlsx\"\n",
    "\n",
    "# verbose=True\n",
    "\n",
    "# if os.path.exists(input_path): \n",
    "#     wb = openpyxl.load_workbook(input_path) #Read xl file\n",
    "#     if verbose: print(f\"{input_path}로 부터 인풋 값을 불러옵니다.\")\n",
    "#     # Fetching application numbers from sheet 'input_1'\n",
    "#     try:input_sheet = wb['input_1']\n",
    "#     except KeyError:\n",
    "#         print(f\"{input_path} 에 'input_1' 시트가 존재하지 않습니다.\")\n",
    "\n",
    "# payment_pw = input_sheet[\"B11\"].value\n",
    "# d_time = input_sheet[\"B13\"].value\n",
    "\n",
    "# order = [] #소팔소곱창, 소팔한우곱창, 소막창, 소대창, 소대창, 소팔디핑소스\n",
    "# for row in input_sheet[\"C3\":\"C8\"]:\n",
    "#     for cell in row:\n",
    "#         order.append(abs(cell.value))\n",
    "# print(order)\n",
    "\n",
    "##임시 input ##\n",
    "payment_pw = \"654321\"\n",
    "d_time = datetime(2020,10,23,16,0,0)\n",
    "order = [1,0,1,1,1,0] #[4,0,0,0,2,8]\n",
    "\n",
    "\n",
    "# store_url, n_th = \"https://smartstore.naver.com/haeyang4034/products/3368978129\", 2 #테스트용 la갈비\n",
    "if order[0]: store_url, n_th = \"https://smartstore.naver.com/soffal/products/343944130\", 1 #소곱창\n",
    "else: store_url, n_th = \"https://smartstore.naver.com/soffal/products/4938214965\", 1 #한우곱창\n",
    "\n",
    "### input 확인 ###\n",
    "assert_mesasge = \"소곱창/한우곱창 둘 중 하나는 수량이 0 이어야 합니다. 최대 수량은 4개 입니다.\"\n",
    "assert order[0]*order[1]==0 and ((order[0] in [1,2,3,4]) or (order[1] in [1,2,3,4])), assert_message"
   ]
  },
  {
   "cell_type": "code",
   "execution_count": 4,
   "metadata": {
    "ExecuteTime": {
     "end_time": "2020-10-24T10:27:40.512002Z",
     "start_time": "2020-10-24T10:27:37.281578Z"
    }
   },
   "outputs": [
    {
     "name": "stdout",
     "output_type": "stream",
     "text": [
      "로그인 해주세요\n"
     ]
    }
   ],
   "source": [
    "driver = set_driver(headless=False)\n",
    "login_url = \"https://nid.naver.com\"\n",
    "driver.get(login_url)\n",
    "\n",
    "print(\"로그인 해주세요\")"
   ]
  },
  {
   "cell_type": "code",
   "execution_count": 5,
   "metadata": {
    "ExecuteTime": {
     "end_time": "2020-10-24T10:27:48.691248Z",
     "start_time": "2020-10-24T10:27:48.663224Z"
    }
   },
   "outputs": [],
   "source": [
    "### 필요한 함수 미리 정의하기 ###\n",
    "def apply_option(driver, option, price_at_nth_div=7, n_th=1):\n",
    "    xpath = f\"\"\"//*[@id=\"content\"]/div/div[2]/div[2]/fieldset/div[{price_at_nth_div-2}]/div[{n_th}]\"\"\"\n",
    "\n",
    "    option = order[2:]\n",
    "    option_cnt = 0\n",
    "\n",
    "    for index, amount in enumerate(option): #e.g. 1,1,0,4\n",
    "        #print(f\"index, amount : {index}, {amount}\")\n",
    "\n",
    "        #수량 확인-> 0개 처리.\n",
    "        if amount == 0: continue\n",
    "\n",
    "        #옵션종류 보는 버튼 클릭.\n",
    "        option_view_btn = driver.find_element_by_xpath(xpath)\n",
    "        option_view_btn.click()\n",
    "        \n",
    "        #옵션버튼 확인\n",
    "        option_i_btn_xpath = f\"\"\"//*[@id=\"content\"]/div/div[2]/div[2]/fieldset/div[{price_at_nth_div-2}]/div[{n_th}]/ul/li[{index+1}]\"\"\"\n",
    "        #print(option_i_btn_xpath, option_cnt)\n",
    "        option_i_btn = driver.find_element_by_xpath(option_i_btn_xpath)\n",
    "        \n",
    "        #품절 처리\n",
    "        if option_i_btn.text[-3:-1] == \"품절\" :\n",
    "            print(\"품절된 옵션입니다. 해당 옵션은 주문하지 않습니다.\")\n",
    "            option_view_btn.click() #\n",
    "            continue\n",
    "\n",
    "        #옵션버튼 클릭\n",
    "        option_i_btn.click()\n",
    "        option_cnt += 1\n",
    "\n",
    "        #옵션 수량 + 버튼 클릭\n",
    "        option_i_plus_btn_xpath = f\"\"\"//*[@id=\"content\"]/div/div[2]/div[2]/fieldset/div[{price_at_nth_div-1}]/ul/li[{option_cnt+1}]/div/div/div/button[2]\"\"\"\n",
    "        option_i_plus_btn = driver.find_element_by_xpath(option_i_plus_btn_xpath)\n",
    "        for _ in range(amount-1):\n",
    "            option_i_plus_btn.click()\n",
    "\n",
    "def CountDown(d_time):\n",
    "    \"\"\"Waits until appointed time.\n",
    "    \n",
    "    0.2 seconds before the time, this function will return nothing so that the next code can run.\n",
    "    \n",
    "    takes datetime instance as argument:d_time\n",
    "    \"\"\"\n",
    "    while True:\n",
    "        now = datetime.now()\n",
    "        seconds_left = (d_time - now).total_seconds()\n",
    "        if seconds_left < 0.2: return\n",
    "        if seconds_left >= 10:\n",
    "            print(f\"waiting...{int(seconds_left)} seconds left.\\r\", end=\"\")\n",
    "            time.sleep(1)\n",
    "        else: \n",
    "            print(f\"waiting...{seconds_left:0.1f} seconds left.\\r\", end=\"\")\n",
    "            time.sleep(0.1)\n",
    "            \n",
    "def pay_later(driver):\n",
    "    normal_pay_xpath = \"\"\"//*[@id=\"orderForm\"]/div/div[5]/div[1]/div[1]/ul/li[4]/div[1]/span/span\"\"\"\n",
    "    \n",
    "    driver.find_element_by_xpath(normal_pay_xpath).click() #일반결제\n",
    "    time.sleep(0.2)\n",
    "    #driver.implicitly_wait(0.5)\n",
    "    driver.find_element_by_xpath(\"\"\"//*[@id=\"orderForm\"]/div/div[5]/div[1]/div[1]/ul/li[4]/ul/li[4]\"\"\").click() #나중에결제\n",
    "    driver.find_element_by_xpath(\"\"\"//*[@id=\"allAgree\"]\"\"\").click() #전체동의 \n",
    "    driver.find_element_by_xpath(\"\"\"//*[@id=\"orderForm\"]/div/div[7]/button\"\"\").click() #결제하기\n",
    "    print(\"주문을 완료하였습니다. 결제내역에서 결제를 마저 진행 해 주세요.\")\n",
    "\n",
    "def pay_with_point(driver, model, password):\n",
    "    driver.find_element_by_xpath(\"\"\"//*[@id=\"allAgree\"]\"\"\").click() #전체동의 \n",
    "    driver.find_element_by_xpath(\"\"\"//*[@id=\"orderForm\"]/div/div[7]/button\"\"\").click() #결제하기\n",
    "    \n",
    "    #비밀번호 입력 창으로 전환\n",
    "    time.sleep(1) #driver.implicitly_wait(1)\n",
    "    old_window = driver.window_handles[0]\n",
    "    new_window = driver.window_handles[1]\n",
    "    driver.switch_to.window(new_window)\n",
    "    driver.save_screenshot(\"number_key_board.jpg\") #스크린샷 저장\n",
    "    \n",
    "    #이미지 전처리\n",
    "    screenshot_array = cv2.imread(\"number_key_board.jpg\")\n",
    "    col_ratio_points = [i/364 for i in (49,140,230,323)]\n",
    "    row_ratio_points = [i/585 for i in (366,430,493)]\n",
    "\n",
    "    row = [int(len(screenshot_array)*i) for i in row_ratio_points]  #0.579, 0.684, 0.789, 0.894\n",
    "    col = [int(len(screenshot_array[0])*i) for i in col_ratio_points] # (0, 0.25, 0.5, 0.75, 1)\n",
    "    crop_pxl = 16\n",
    "    keypad_img_dict = dict.fromkeys([(i,j) for i in range(1,4) for j in range(1,5)], None)\n",
    "    for i in range(1,4):\n",
    "        for j in range(1,5):\n",
    "            keypad_img_dict[(i,j)] = screenshot_array[row[i-1]-crop_pxl:row[i-1]+crop_pxl,\n",
    "                                                      col[j-1]-crop_pxl:col[j-1]+crop_pxl]/255.0\n",
    "    #숫자 예측\n",
    "    key_dict = {}\n",
    "    for key,value in keypad_img_dict.items():\n",
    "        img = value.copy()\n",
    "        pred = loaded_model.predict(img[np.newaxis,:,:,:])[0]\n",
    "        key_dict[str(pred.argmax())] = key\n",
    "    \n",
    "    print(key_dict)\n",
    "    \n",
    "    #숫자 입력\n",
    "    for i in password:\n",
    "        r,c = key_dict[i]\n",
    "        driver.find_element_by_xpath(f\"\"\"//*[@id=\"fm\"]/div/div[2]/table/tbody/tr[{r}]/td[{c}]/button\"\"\").click()\n",
    "        time.sleep(0.02)\n",
    "    \n",
    "    driver.switch_to.window(old_window)\n",
    "    print(\"네이버페이 포인트로 주문을 완료하였습니다.\")"
   ]
  },
  {
   "cell_type": "code",
   "execution_count": 6,
   "metadata": {
    "ExecuteTime": {
     "end_time": "2020-10-24T10:28:03.193867Z",
     "start_time": "2020-10-24T10:27:53.069804Z"
    },
    "scrolled": false
   },
   "outputs": [
    {
     "name": "stdout",
     "output_type": "stream",
     "text": [
      "price_at_nth_div 8\n",
      "구매하기버튼 확인\n",
      "수량+ 버튼 확인\n",
      "option:  [1, 1, 1, 0]\n",
      "finished loading\n"
     ]
    },
    {
     "name": "stderr",
     "output_type": "stream",
     "text": [
      "c:\\program files\\python37\\lib\\site-packages\\selenium\\webdriver\\remote\\webdriver.py:1031: UserWarning: name used for saved screenshot does not match file type. It should end with a `.png` extension\n",
      "  \"type. It should end with a `.png` extension\", UserWarning)\n"
     ]
    },
    {
     "name": "stdout",
     "output_type": "stream",
     "text": [
      "{'6': (1, 1), '1': (1, 2), '10': (3, 2), '0': (1, 4), '7': (2, 1), '2': (2, 2), '4': (2, 3), '5': (2, 4), '9': (3, 1), '8': (3, 3), '3': (3, 4)}\n",
      "네이버페이 포인트로 주문을 완료하였습니다.\n"
     ]
    }
   ],
   "source": [
    "driver.get(store_url)\n",
    "\n",
    "#가끔 카드 이벤트 등으로 div가 하나 더 생겨서 숫자가 밀림. 이를 방지하기 위해 div의 갯수를 세어주는게 좋음.\n",
    "#이벤트 총금액의 div[n] 은 7임\n",
    "\n",
    "price_at_nth_div = 7\n",
    "while price_at_nth_div < 10:\n",
    "    try:\n",
    "        total_price_text_xpath = f\"\"\"//*[@id=\"content\"]/div/div[2]/div[2]/fieldset/div[{price_at_nth_div}]/strong\"\"\"\n",
    "        if driver.find_element_by_xpath(total_price_text_xpath).text[-2:] == \"금액\":\n",
    "            break\n",
    "        else: price_at_nth_div += 1\n",
    "    except:\n",
    "        price_at_nth_div += 1\n",
    "print(\"price_at_nth_div\", price_at_nth_div)\n",
    "\n",
    "### Countdown 실행 ##\n",
    "CountDown(d_time)\n",
    "\n",
    "cnt=1 #리프레시 카운트용\n",
    "while True:\n",
    "    driver.get(store_url) #새로고침\n",
    "    time.sleep(0.2)\n",
    "    \n",
    "    # 구매버튼 있으면 구매하기\n",
    "    try:\n",
    "        buy_btn = driver.find_element_by_xpath(f\"\"\"//*[@id=\"content\"]/div/div[2]/div[2]/fieldset/div[{price_at_nth_div+1}]/ul[1]/li[1]\"\"\")\n",
    "        print(buy_btn.text + \"버튼 확인\")\n",
    "        if buy_btn.text == \"구매하기\":\n",
    "            #수량 + 버튼 클릭\n",
    "            print(\"수량+ 버튼 확인\")\n",
    "            product_amount_plus_btn_xpath = f\"\"\"//*[@id=\"content\"]/div/div[2]/div[2]/fieldset/div[{price_at_nth_div-1}]/ul/li[1]/div/div/div/button[2]\"\"\"\n",
    "            product_amount_plus_btn = driver.find_element_by_xpath(product_amount_plus_btn_xpath)\n",
    "            order_amount = order[0]+order[1] #어차피 둘 중 하나는 0이니까\n",
    "            for _ in range(order_amount-1): #초기값이 1이므로 1빼야함.\n",
    "                product_amount_plus_btn.click()\n",
    "            \n",
    "            #옵션 있으면 옵션 담고 클릭\n",
    "            option = order[2:]\n",
    "            print(\"option: \", option)\n",
    "            if sum(option) != 0:\n",
    "                apply_option(driver=driver, option=option, price_at_nth_div=price_at_nth_div, n_th=n_th) #소팔소에선 n_th=1로!! \n",
    "            \n",
    "            #구매버튼 클릭 & 루프 빠져나오기\n",
    "            buy_btn.click()\n",
    "            break\n",
    "    \n",
    "    # 구매버튼 없으면 루프 재 진입->새로고침\n",
    "    except Exception as e:\n",
    "        error_message = \"\".join(e.__str__().split(\"\\n\"))\n",
    "        print(error_message + f\" 에러 발생. 현재 창에서 구매가 불가능 합니다. 시도 횟수: {cnt} \\r\", end=\"\")\n",
    "        cnt += 1\n",
    "        continue\n",
    "\n",
    "time.sleep(0.3)\n",
    "\n",
    "# pay_later(driver=driver)\n",
    "# print(\"loading model\")\n",
    "loaded_model = tf.keras.models.load_model(\"C:\\\\Users\\\\lunat\\\\Desktop\\\\weights\\\\number_classifier_v0.3_2020.10.22.01.54.h5\")\n",
    "print(\"finished loading\")\n",
    "pay_with_point(driver, loaded_model, payment_pw)\n",
    "\n",
    "### 시간 되면 아래 코드 실행 ###\n",
    "#새로고침 & 주문시작"
   ]
  },
  {
   "cell_type": "code",
   "execution_count": 7,
   "metadata": {
    "ExecuteTime": {
     "end_time": "2020-10-24T10:28:18.020431Z",
     "start_time": "2020-10-24T10:28:18.006418Z"
    }
   },
   "outputs": [],
   "source": [
    "old_window = driver.window_handles[0]\n",
    "#new_window = driver.window_handles[1]\n",
    "driver.switch_to.window(old_window)"
   ]
  },
  {
   "cell_type": "code",
   "execution_count": null,
   "metadata": {},
   "outputs": [],
   "source": []
  }
 ],
 "metadata": {
  "kernelspec": {
   "display_name": "Python 3",
   "language": "python",
   "name": "python3"
  },
  "language_info": {
   "codemirror_mode": {
    "name": "ipython",
    "version": 3
   },
   "file_extension": ".py",
   "mimetype": "text/x-python",
   "name": "python",
   "nbconvert_exporter": "python",
   "pygments_lexer": "ipython3",
   "version": "3.7.5"
  }
 },
 "nbformat": 4,
 "nbformat_minor": 4
}
